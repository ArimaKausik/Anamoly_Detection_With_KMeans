{
 "cells": [
  {
   "cell_type": "code",
   "execution_count": 1,
   "metadata": {},
   "outputs": [],
   "source": [
    "import findspark\n",
    "findspark.init()"
   ]
  },
  {
   "cell_type": "code",
   "execution_count": 2,
   "metadata": {},
   "outputs": [],
   "source": [
    "from pyspark.sql import SparkSession\n",
    "from pyspark.sql.functions import col\n",
    "from pyspark.ml.feature import VectorAssembler\n",
    "from pyspark.ml.clustering import KMeans,KMeansModel\n",
    "from pyspark.ml import Pipeline\n",
    "from pyspark.ml.feature import StandardScaler"
   ]
  },
  {
   "cell_type": "code",
   "execution_count": 3,
   "metadata": {},
   "outputs": [],
   "source": [
    "spark = SparkSession.builder.config(\"spark.sql.anamolyDet.dir\",\"file:///d:/temp\").appName(\"anamolyDetection\").getOrCreate()"
   ]
  },
  {
   "cell_type": "code",
   "execution_count": 4,
   "metadata": {},
   "outputs": [],
   "source": [
    "data = spark.read.format('csv').load(\"kddcup.data\",inferSchema=True)"
   ]
  },
  {
   "cell_type": "code",
   "execution_count": 5,
   "metadata": {},
   "outputs": [
    {
     "data": {
      "text/plain": [
       "<bound method DataFrame.head of DataFrame[_c0: int, _c1: string, _c2: string, _c3: string, _c4: int, _c5: int, _c6: int, _c7: int, _c8: int, _c9: int, _c10: int, _c11: int, _c12: int, _c13: int, _c14: int, _c15: int, _c16: int, _c17: int, _c18: int, _c19: int, _c20: int, _c21: int, _c22: int, _c23: int, _c24: double, _c25: double, _c26: double, _c27: double, _c28: double, _c29: double, _c30: double, _c31: int, _c32: int, _c33: double, _c34: double, _c35: double, _c36: double, _c37: double, _c38: double, _c39: double, _c40: double, _c41: string]>"
      ]
     },
     "execution_count": 5,
     "metadata": {},
     "output_type": "execute_result"
    }
   ],
   "source": [
    "data.head"
   ]
  },
  {
   "cell_type": "code",
   "execution_count": 6,
   "metadata": {},
   "outputs": [],
   "source": [
    "dataFrame = data.toDF(\"duration\", \"protocol_type\", \"service\", \"flag\",\n",
    "\"src_bytes\", \"dst_bytes\", \"land\", \"wrong_fragment\", \"urgent\",\n",
    "\"hot\", \"num_failed_logins\", \"logged_in\", \"num_compromised\",\n",
    "\"root_shell\", \"su_attempted\", \"num_root\", \"num_file_creations\",\n",
    "\"num_shells\", \"num_access_files\", \"num_outbound_cmds\",\n",
    "\"is_host_login\", \"is_guest_login\", \"count\", \"srv_count\",\n",
    "\"serror_rate\", \"srv_serror_rate\", \"rerror_rate\", \"srv_rerror_rate\",\n",
    "\"same_srv_rate\", \"diff_srv_rate\", \"srv_diff_host_rate\",\n",
    "\"dst_host_count\", \"dst_host_srv_count\",\n",
    "\"dst_host_same_srv_rate\", \"dst_host_diff_srv_rate\",\n",
    "\"dst_host_same_src_port_rate\", \"dst_host_srv_diff_host_rate\",\n",
    "\"dst_host_serror_rate\", \"dst_host_srv_serror_rate\",\n",
    "\"dst_host_rerror_rate\", \"dst_host_srv_rerror_rate\",\n",
    "\"label\")"
   ]
  },
  {
   "cell_type": "code",
   "execution_count": 7,
   "metadata": {},
   "outputs": [
    {
     "name": "stdout",
     "output_type": "stream",
     "text": [
      "+----------------+-------+\n",
      "|           label|  count|\n",
      "+----------------+-------+\n",
      "|          smurf.|2807886|\n",
      "|        neptune.|1072017|\n",
      "|         normal.| 972781|\n",
      "|          satan.|  15892|\n",
      "|        ipsweep.|  12481|\n",
      "|      portsweep.|  10413|\n",
      "|           nmap.|   2316|\n",
      "|           back.|   2203|\n",
      "|    warezclient.|   1020|\n",
      "|       teardrop.|    979|\n",
      "|            pod.|    264|\n",
      "|   guess_passwd.|     53|\n",
      "|buffer_overflow.|     30|\n",
      "|           land.|     21|\n",
      "|    warezmaster.|     20|\n",
      "|           imap.|     12|\n",
      "|        rootkit.|     10|\n",
      "|     loadmodule.|      9|\n",
      "|      ftp_write.|      8|\n",
      "|       multihop.|      7|\n",
      "|            phf.|      4|\n",
      "|           perl.|      3|\n",
      "|            spy.|      2|\n",
      "+----------------+-------+\n",
      "\n"
     ]
    }
   ],
   "source": [
    "dataFrame.select(\"label\").groupBy(\"label\").count().orderBy(col(\"count\").desc()).show(25)"
   ]
  },
  {
   "cell_type": "code",
   "execution_count": 8,
   "metadata": {},
   "outputs": [],
   "source": [
    "numericOnly = dataFrame.drop(\"protocol_type\", \"service\", \"flag\").cache()"
   ]
  },
  {
   "cell_type": "code",
   "execution_count": 9,
   "metadata": {},
   "outputs": [],
   "source": [
    "inputCols = numericOnly.columns[:38]\n",
    "assembler = VectorAssembler(inputCols=inputCols,outputCol=\"features\")"
   ]
  },
  {
   "cell_type": "code",
   "execution_count": 10,
   "metadata": {},
   "outputs": [],
   "source": [
    "kmeans = KMeans()"
   ]
  },
  {
   "cell_type": "code",
   "execution_count": 11,
   "metadata": {},
   "outputs": [],
   "source": [
    "pipeline = Pipeline(stages = [assembler,kmeans])\n",
    "pipeModel = pipeline.fit(numericOnly)"
   ]
  },
  {
   "cell_type": "code",
   "execution_count": 12,
   "metadata": {},
   "outputs": [],
   "source": [
    "kmeansModel = pipeModel.stages[-1]"
   ]
  },
  {
   "cell_type": "code",
   "execution_count": 13,
   "metadata": {},
   "outputs": [
    {
     "name": "stdout",
     "output_type": "stream",
     "text": [
      "(20, 4.663458567021335e+18)\n"
     ]
    }
   ],
   "source": [
    "print((20,kmeansModel.summary.trainingCost))"
   ]
  },
  {
   "cell_type": "code",
   "execution_count": 14,
   "metadata": {},
   "outputs": [
    {
     "name": "stdout",
     "output_type": "stream",
     "text": [
      "[4.83401949e+01 1.83462155e+03 8.26203190e+02 5.71611720e-06\n",
      " 6.48779303e-04 7.96173468e-06 1.24376586e-02 3.20510858e-05\n",
      " 1.43529049e-01 8.08830584e-03 6.81851124e-05 3.67464677e-05\n",
      " 1.29349608e-02 1.18874823e-03 7.43095237e-05 1.02114351e-03\n",
      " 0.00000000e+00 4.08294086e-07 8.35165553e-04 3.34973508e+02\n",
      " 2.95267146e+02 1.77970317e-01 1.78036989e-01 5.76648988e-02\n",
      " 5.77299094e-02 7.89884132e-01 2.11796106e-02 2.82608101e-02\n",
      " 2.32981078e+02 1.89214283e+02 7.53713390e-01 3.07109788e-02\n",
      " 6.05051931e-01 6.46410789e-03 1.78091184e-01 1.77885898e-01\n",
      " 5.79276115e-02 5.76592214e-02]\n",
      "[1.0999000e+04 0.0000000e+00 1.3099374e+09 0.0000000e+00 0.0000000e+00\n",
      " 0.0000000e+00 0.0000000e+00 0.0000000e+00 0.0000000e+00 0.0000000e+00\n",
      " 0.0000000e+00 0.0000000e+00 0.0000000e+00 0.0000000e+00 0.0000000e+00\n",
      " 0.0000000e+00 0.0000000e+00 0.0000000e+00 0.0000000e+00 1.0000000e+00\n",
      " 1.0000000e+00 0.0000000e+00 0.0000000e+00 1.0000000e+00 1.0000000e+00\n",
      " 1.0000000e+00 0.0000000e+00 0.0000000e+00 2.5500000e+02 1.0000000e+00\n",
      " 0.0000000e+00 6.5000000e-01 1.0000000e+00 0.0000000e+00 0.0000000e+00\n",
      " 0.0000000e+00 1.0000000e+00 1.0000000e+00]\n"
     ]
    }
   ],
   "source": [
    "center = kmeansModel.clusterCenters()\n",
    "for c in center:\n",
    "    print(c)"
   ]
  },
  {
   "cell_type": "code",
   "execution_count": 15,
   "metadata": {},
   "outputs": [],
   "source": [
    "withCluster = pipeModel.transform(numericOnly)"
   ]
  },
  {
   "cell_type": "code",
   "execution_count": 16,
   "metadata": {},
   "outputs": [
    {
     "name": "stdout",
     "output_type": "stream",
     "text": [
      "+----------+----------------+-------+\n",
      "|prediction|           label|  count|\n",
      "+----------+----------------+-------+\n",
      "|         0|          smurf.|2807886|\n",
      "|         0|        neptune.|1072017|\n",
      "|         0|         normal.| 972781|\n",
      "|         0|          satan.|  15892|\n",
      "|         0|        ipsweep.|  12481|\n",
      "|         0|      portsweep.|  10412|\n",
      "|         0|           nmap.|   2316|\n",
      "|         0|           back.|   2203|\n",
      "|         0|    warezclient.|   1020|\n",
      "|         0|       teardrop.|    979|\n",
      "|         0|            pod.|    264|\n",
      "|         0|   guess_passwd.|     53|\n",
      "|         0|buffer_overflow.|     30|\n",
      "|         0|           land.|     21|\n",
      "|         0|    warezmaster.|     20|\n",
      "|         0|           imap.|     12|\n",
      "|         0|        rootkit.|     10|\n",
      "|         0|     loadmodule.|      9|\n",
      "|         0|      ftp_write.|      8|\n",
      "|         0|       multihop.|      7|\n",
      "|         0|            phf.|      4|\n",
      "|         0|           perl.|      3|\n",
      "|         0|            spy.|      2|\n",
      "|         1|      portsweep.|      1|\n",
      "+----------+----------------+-------+\n",
      "\n"
     ]
    }
   ],
   "source": [
    "withCluster.select('prediction','label').groupBy('prediction','label').count().orderBy('prediction',col('count').desc()).show(25)"
   ]
  },
  {
   "cell_type": "code",
   "execution_count": 17,
   "metadata": {},
   "outputs": [],
   "source": [
    "def meanScore(k,df):\n",
    "    inputCol = df.columns[:38]\n",
    "    assembler = VectorAssembler(inputCols=inputCols,outputCol=\"features\")\n",
    "    kmeans = KMeans().setK(k).setMaxIter(40).setTol(1.0e-5)\n",
    "    pipeModel2 = Pipeline(stages=[assembler,kmeans])\n",
    "    kmeansModel = pipeModel2.fit(df).stages[1]\n",
    "    out = float(kmeansModel.summary.trainingCost)/float(df.count())\n",
    "    return(out)\n",
    "    "
   ]
  },
  {
   "cell_type": "code",
   "execution_count": 18,
   "metadata": {},
   "outputs": [],
   "source": [
    "def scaledScore(k,df):\n",
    "    inputCol = df.columns[:38]\n",
    "    assembler = VectorAssembler(inputCols=inputCols,outputCol=\"featureVector\")\n",
    "    scaler = StandardScaler().setInputCol(\"featureVector\").setOutputCol(\"features\")\n",
    "    kmeans = KMeans().setK(k).setMaxIter(40).setTol(1.0e-5)\n",
    "    pipeModel3 = Pipeline(stages=[assembler,scaler,kmeans])\n",
    "    kmeansModel = pipeModel3.fit(df).stages[-1]\n",
    "    out = float(kmeansModel.summary.trainingCost)/float(df.count())\n",
    "    return(out)"
   ]
  },
  {
   "cell_type": "code",
   "execution_count": 19,
   "metadata": {},
   "outputs": [
    {
     "name": "stdout",
     "output_type": "stream",
     "text": [
      "(60, 1.1122258658942799)\n",
      "(90, 0.7453323919680306)\n",
      "(120, 0.5041179085729937)\n",
      "(150, 0.4184469605999362)\n",
      "(180, 0.33656674592411784)\n",
      "(210, 0.2949430578830955)\n",
      "(240, 0.24827669334114305)\n",
      "(270, 0.21641754295220192)\n"
     ]
    }
   ],
   "source": [
    "for k in range(60,271,30):\n",
    "    sc = scaledScore(k,numericOnly)\n",
    "    print((k,sc))"
   ]
  },
  {
   "cell_type": "code",
   "execution_count": 23,
   "metadata": {},
   "outputs": [],
   "source": [
    "assembler = VectorAssembler(inputCols=inputCols,outputCol=\"featureVector\")\n",
    "scaler = StandardScaler().setInputCol(\"featureVector\").setOutputCol(\"features\")\n",
    "kmeansFinal = KMeans().setK(80)\n",
    "pipeFinal = Pipeline(stages=[assembler,scaler,kmeansFinal])"
   ]
  },
  {
   "cell_type": "code",
   "execution_count": 24,
   "metadata": {},
   "outputs": [
    {
     "name": "stdout",
     "output_type": "stream",
     "text": [
      "+----------+----------------+-------+\n",
      "|prediction|           label|  count|\n",
      "+----------+----------------+-------+\n",
      "|         0|          smurf.|2805819|\n",
      "|         0|         normal.|    335|\n",
      "|         1|         normal.|   2133|\n",
      "|         1|    warezclient.|     19|\n",
      "|         1|      ftp_write.|      2|\n",
      "|         1|       multihop.|      2|\n",
      "|         1|   guess_passwd.|      1|\n",
      "|         1|    warezmaster.|      1|\n",
      "|         2|        neptune.| 103897|\n",
      "|         2|      portsweep.|    644|\n",
      "|         2|         normal.|    378|\n",
      "|         2|          satan.|      3|\n",
      "|         3|         normal.|      2|\n",
      "|         4|         normal.|   7802|\n",
      "|         4|    warezclient.|      7|\n",
      "|         4|      portsweep.|      3|\n",
      "|         5|          satan.|  13983|\n",
      "|         5|      portsweep.|   1742|\n",
      "|         5|         normal.|      3|\n",
      "|         6|         normal.|      1|\n",
      "|         7|         normal.|    220|\n",
      "|         7|buffer_overflow.|     18|\n",
      "|         7|            phf.|      4|\n",
      "|         7|           perl.|      3|\n",
      "|         7|       multihop.|      1|\n",
      "+----------+----------------+-------+\n",
      "only showing top 25 rows\n",
      "\n"
     ]
    }
   ],
   "source": [
    "model = pipeFinal.fit(numericOnly)\n",
    "withCluster = model.transform(numericOnly)\n",
    "withCluster.select('prediction','label').groupBy('prediction','label').count().orderBy('prediction',col('count').desc()).show(25)"
   ]
  },
  {
   "cell_type": "code",
   "execution_count": null,
   "metadata": {},
   "outputs": [],
   "source": []
  }
 ],
 "metadata": {
  "kernelspec": {
   "display_name": "Python 3",
   "language": "python",
   "name": "python3"
  },
  "language_info": {
   "codemirror_mode": {
    "name": "ipython",
    "version": 3
   },
   "file_extension": ".py",
   "mimetype": "text/x-python",
   "name": "python",
   "nbconvert_exporter": "python",
   "pygments_lexer": "ipython3",
   "version": "3.8.3"
  }
 },
 "nbformat": 4,
 "nbformat_minor": 4
}
